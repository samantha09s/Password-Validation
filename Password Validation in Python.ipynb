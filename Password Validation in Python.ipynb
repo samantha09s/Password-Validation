{
  "nbformat": 4,
  "nbformat_minor": 0,
  "metadata": {
    "colab": {
      "provenance": [],
      "authorship_tag": "ABX9TyPHgN/okLK6NzbJiGs5rPBo",
      "include_colab_link": true
    },
    "kernelspec": {
      "name": "python3",
      "display_name": "Python 3"
    },
    "language_info": {
      "name": "python"
    }
  },
  "cells": [
    {
      "cell_type": "markdown",
      "metadata": {
        "id": "view-in-github",
        "colab_type": "text"
      },
      "source": [
        "<a href=\"https://colab.research.google.com/github/samantha09s/Password-Validation/blob/main/Password%20Validation%20in%20Python.ipynb\" target=\"_parent\"><img src=\"https://colab.research.google.com/assets/colab-badge.svg\" alt=\"Open In Colab\"/></a>"
      ]
    },
    {
      "cell_type": "markdown",
      "source": [
        "# **Validación de Contraseña en Python**\n",
        "\n",
        "## **Introducción**\n",
        "En este ejercicio, crearemos un programa en **Python** que valide si una contraseña ingresada por el usuario cumple con ciertos criterios de seguridad.  \n",
        "\n",
        "## **Requisitos de Validación:**\n",
        "- Al menos **una letra minúscula** `[a-z]`\n",
        "- Al menos **una letra mayúscula** `[A-Z]`\n",
        "- Al menos **un número** `[0-9]`\n",
        "- Al menos **un carácter especial** `[$#@]`\n",
        "- Longitud mínima de **6 caracteres** y máxima de **16 caracteres**.\n",
        "\n",
        "## **Objetivo**\n",
        "- Aplicar conocimientos básicos de Python, como condicionales y expresiones regulares (**RegEx**).\n",
        "- Entender cómo validar cadenas de texto con el módulo `re`.\n",
        "\n",
        "## **Justificación**\n",
        "Este ejercicio nos ayuda a comprender cómo funcionan las **expresiones regulares** y la manipulación de cadenas en Python. Además, la validación de contraseñas es una práctica fundamental en el desarrollo de software seguro.\n",
        "\n",
        "Ahora, ejecutemos el código y probemos diferentes contraseñas. ¡Comencemos!\n"
      ],
      "metadata": {
        "id": "O3m_VQ9CAIbC"
      }
    },
    {
      "cell_type": "code",
      "execution_count": null,
      "metadata": {
        "colab": {
          "base_uri": "https://localhost:8080/"
        },
        "id": "8EogTzpf_C2k",
        "outputId": "ca7b0657-5230-404b-ac23-afdc77660b54"
      },
      "outputs": [
        {
          "output_type": "stream",
          "name": "stdout",
          "text": [
            "🔑 Ingrese una contraseña: Pluton#134340\n",
            "✅ La contraseña es válida. ¡Bien hecho!\n"
          ]
        }
      ],
      "source": [
        "# Importamos el módulo 're' para usar expresiones regulares\n",
        "import re\n",
        "\n",
        "def validar_contraseña(contraseña):\n",
        "    \"\"\"\n",
        "    Función que verifica si la contraseña cumple con los requisitos de seguridad.\n",
        "    - Debe tener al menos 1 minúscula, 1 mayúscula, 1 número y 1 caracter especial ($#@).\n",
        "    - La longitud debe estar entre 6 y 16 caracteres.\n",
        "\n",
        "    Parámetro:\n",
        "    - contraseña (str): Cadena ingresada por el usuario.\n",
        "\n",
        "    Retorna:\n",
        "    - True si la contraseña es válida.\n",
        "    - False si no cumple los requisitos.\n",
        "    \"\"\"\n",
        "\n",
        "    # Verificamos si la contraseña tiene la longitud adecuada\n",
        "    if not (6 <= len(contraseña) <= 16):\n",
        "        return False  # Retorna False si la longitud no es válida\n",
        "\n",
        "    # Verificamos si contiene al menos:\n",
        "    tiene_minuscula = re.search(r\"[a-z]\", contraseña)  # Una letra minúscula\n",
        "    tiene_mayuscula = re.search(r\"[A-Z]\", contraseña)  # Una letra mayúscula\n",
        "    tiene_numero = re.search(r\"[0-9]\", contraseña)     # Un número\n",
        "    tiene_especial = re.search(r\"[$#@]\", contraseña)   # Un carácter especial\n",
        "\n",
        "    # Retorna True si TODAS las condiciones se cumplen\n",
        "    if tiene_minuscula and tiene_mayuscula and tiene_numero and tiene_especial:\n",
        "        return True\n",
        "    else:\n",
        "        return False  # Si alguna condición no se cumple, retorna False\n",
        "\n",
        "# Solicitamos la contraseña al usuario\n",
        "contraseña = input(\"🔑 Ingrese una contraseña: \")\n",
        "\n",
        "# Validamos la contraseña y mostramos el resultado\n",
        "if validar_contraseña(contraseña):\n",
        "    print(\"✅ La contraseña es válida. ¡Bien hecho!\")\n",
        "else:\n",
        "    print(\"❌ La contraseña no cumple con los requisitos. Inténtalo de nuevo.\")"
      ]
    },
    {
      "cell_type": "markdown",
      "source": [
        "---\n",
        "\n",
        "## **Explicación del Código**\n",
        "1. **Importamos `re`**, que es un módulo de Python para expresiones regulares.\n",
        "2. **Definimos la función `validar_contraseña(contraseña)`**:\n",
        "   - Comprueba la **longitud** (mínimo 6, máximo 16 caracteres).\n",
        "   - Verifica que haya **una minúscula**, **una mayúscula**, **un número** y **un carácter especial** (`$#@`).\n",
        "   - Si todas las condiciones se cumplen, retorna `True`; de lo contrario, `False`.\n",
        "3. **Solicitamos la contraseña al usuario** y verificamos si es válida.\n",
        "4. **Mostramos un mensaje apropiado** según el resultado."
      ],
      "metadata": {
        "id": "mgm9gCTOAjqG"
      }
    }
  ]
}